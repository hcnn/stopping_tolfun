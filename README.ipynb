{
 "cells": [
  {
   "cell_type": "raw",
   "metadata": {},
   "source": [
    "---\n",
    "title: \"stopping_tolfun\"\n",
    "date: 2018-08-28T19:00:00+02:00\n",
    "draft: false\n",
    "tags: [\"stopping_tolfun\", \"stopping criteria\", \"termination criteria\", \"gradient descent\", \"numerical optimization\"]\n",
    "---"
   ]
  },
  {
   "cell_type": "markdown",
   "metadata": {},
   "source": [
    "### TolFun\n",
    "Stop the optimization iteration if the new target function value does not improve as much anymore\n",
    "\n",
    "$$\n",
    "| f(x_{k+1}) - f(x_k) | < TolFun\n",
    "$$\n"
   ]
  },
  {
   "cell_type": "markdown",
   "metadata": {},
   "source": [
    "### C Implementation"
   ]
  },
  {
   "cell_type": "code",
   "execution_count": 1,
   "metadata": {
    "ExecuteTime": {
     "end_time": "2018-08-28T19:48:50.004139Z",
     "start_time": "2018-08-28T19:48:49.787643Z"
    }
   },
   "outputs": [
    {
     "name": "stdout",
     "output_type": "stream",
     "text": [
      "false -> proceed\n",
      "true -> terminate\n"
     ]
    }
   ],
   "source": [
    "#include <stdio.h> //printf\n",
    "#include <stdbool.h> //bool\n",
    "#include <math.h>  //fabs\n",
    "\n",
    "/* true  = yes,terminate\n",
    " * false = no,proceed */\n",
    "bool stopping_tolfun(double f1, double f0, double tolfun){\n",
    "    return (fabs(f1 - f0) < tolfun) ? true : false;\n",
    "}\n",
    "\n",
    "int main(){\n",
    "    double tolfun = 0.001;\n",
    "    double f0 = 10.001;\n",
    "    double f1 = 10.002;\n",
    "    bool res;\n",
    "    \n",
    "    res = stopping_tolfun(f1, f0, tolfun);\n",
    "    printf(\"%s\\n\", res ? \"true -> terminate\" : \"false -> proceed\");\n",
    "\n",
    "    tolfun = 0.01;\n",
    "    res = stopping_tolfun(f1, f0, tolfun);\n",
    "    printf(\"%s\\n\", res ? \"true -> terminate\" : \"false -> proceed\");\n",
    "}"
   ]
  }
 ],
 "metadata": {
  "kernelspec": {
   "display_name": "C",
   "language": "c",
   "name": "c"
  },
  "language_info": {
   "file_extension": ".c",
   "mimetype": "text/plain",
   "name": "c"
  },
  "toc": {
   "base_numbering": 1,
   "nav_menu": {},
   "number_sections": true,
   "sideBar": true,
   "skip_h1_title": false,
   "title_cell": "Table of Contents",
   "title_sidebar": "Contents",
   "toc_cell": false,
   "toc_position": {},
   "toc_section_display": true,
   "toc_window_display": false
  },
  "varInspector": {
   "cols": {
    "lenName": 16,
    "lenType": 16,
    "lenVar": 40
   },
   "kernels_config": {
    "python": {
     "delete_cmd_postfix": "",
     "delete_cmd_prefix": "del ",
     "library": "var_list.py",
     "varRefreshCmd": "print(var_dic_list())"
    },
    "r": {
     "delete_cmd_postfix": ") ",
     "delete_cmd_prefix": "rm(",
     "library": "var_list.r",
     "varRefreshCmd": "cat(var_dic_list()) "
    }
   },
   "types_to_exclude": [
    "module",
    "function",
    "builtin_function_or_method",
    "instance",
    "_Feature"
   ],
   "window_display": false
  }
 },
 "nbformat": 4,
 "nbformat_minor": 2
}
